{
 "cells": [
  {
   "cell_type": "code",
   "execution_count": 1,
   "metadata": {},
   "outputs": [],
   "source": [
    "import sqlite3"
   ]
  },
  {
   "cell_type": "code",
   "execution_count": 2,
   "metadata": {},
   "outputs": [],
   "source": [
    "connexion = sqlite3.connect(\"toutroule.db\")"
   ]
  },
  {
   "cell_type": "code",
   "execution_count": 3,
   "metadata": {},
   "outputs": [],
   "source": [
    "curseur = connexion.cursor()"
   ]
  },
  {
   "cell_type": "code",
   "execution_count": 4,
   "metadata": {},
   "outputs": [],
   "source": [
    "creation_table = \"\"\"\n",
    "CREATE TABLE vehicules(\n",
    "   id_vehicule INTEGER PRIMARY KEY,\n",
    "   type VARCHAR(50) NOT NULL\n",
    ");\n",
    "\"\"\" "
   ]
  },
  {
   "cell_type": "code",
   "execution_count": 5,
   "metadata": {},
   "outputs": [
    {
     "data": {
      "text/plain": [
       "<sqlite3.Cursor at 0x1bc4f7ffb40>"
      ]
     },
     "execution_count": 5,
     "metadata": {},
     "output_type": "execute_result"
    }
   ],
   "source": [
    "curseur.execute(creation_table)"
   ]
  },
  {
   "cell_type": "code",
   "execution_count": 6,
   "metadata": {},
   "outputs": [],
   "source": [
    "table_chauffeur = \"\"\"\n",
    "CREATE TABLE chauffeurs(\n",
    "   id_chauffeur INTEGER PRIMARY KEY,\n",
    "   nom VARCHAR(50) NOT NULL,\n",
    "   prenom VARCHAR(50) NOT NULL,\n",
    "   genre VARCHAR(2) NOT NULL\n",
    ");\n",
    "\"\"\""
   ]
  },
  {
   "cell_type": "code",
   "execution_count": 7,
   "metadata": {},
   "outputs": [
    {
     "data": {
      "text/plain": [
       "<sqlite3.Cursor at 0x1bc4f7ffb40>"
      ]
     },
     "execution_count": 7,
     "metadata": {},
     "output_type": "execute_result"
    }
   ],
   "source": [
    "curseur.execute(table_chauffeur)"
   ]
  },
  {
   "cell_type": "code",
   "execution_count": 8,
   "metadata": {},
   "outputs": [],
   "source": [
    "table_trajets = \"\"\"\n",
    "CREATE TABLE trajets(\n",
    "   id_trajet INTEGER PRIMARY KEY,\n",
    "   km_fin INT NOT NULL,\n",
    "   km_debut INT NOT NULL,\n",
    "   commentaire VARCHAR(250),\n",
    "   id_vehicule CHAR(50) NOT NULL,\n",
    "   id_chauffeur INT NOT NULL,\n",
    "   FOREIGN KEY(id_vehicule) REFERENCES vehicule(id_vehicule),\n",
    "   FOREIGN KEY(id_chauffeur) REFERENCES chauffeurs(id_chauffeur)\n",
    ");\n",
    "\"\"\""
   ]
  },
  {
   "cell_type": "code",
   "execution_count": 9,
   "metadata": {},
   "outputs": [
    {
     "data": {
      "text/plain": [
       "<sqlite3.Cursor at 0x1bc4f7ffb40>"
      ]
     },
     "execution_count": 9,
     "metadata": {},
     "output_type": "execute_result"
    }
   ],
   "source": [
    "curseur.execute(table_trajets)"
   ]
  },
  {
   "cell_type": "code",
   "execution_count": 10,
   "metadata": {},
   "outputs": [],
   "source": [
    "connexion.commit()\n",
    "connexion.close()"
   ]
  },
  {
   "cell_type": "code",
   "execution_count": 9,
   "metadata": {},
   "outputs": [
    {
     "name": "stdout",
     "output_type": "stream",
     "text": [
      "1 1\n"
     ]
    }
   ],
   "source": [
    "connexion = sqlite3.connect(\"toutroule.db\")\n",
    "curseur = connexion.cursor()\n",
    "f_reponse_formulaire = {\n",
    "        \"nom\":f_formulaire.wtf_nom.data,\n",
    "        \"prenom\":f_formulaire.wtf_prenom.data,\n",
    "        \"type_vehicule\":f_formulaire.wtf_type_vehicule.data,\n",
    "        \"kilometres_depart\":f_formulaire.wtf_kilometres_depart.data,\n",
    "        \"kilometres_fin\":f_formulaire.wtf_kilometres_fin.data,\n",
    "        \"commentaire\":f_formulaire.wtf_commentaire.data\n",
    "        }\n",
    "f_reponse_formulaire.id_vehicule = curseur.execute(f\"SELECT id_vehicule FROM vehicule WHERE type = {f_reponse_formulaire.type_vehicule}\").fetchone()[0]\n",
    "f_reponse_formulaire.id_chauffeur = curseur.execute(f\"SELECT id_cheffeur FROM chauffeurs WHERE nom={f_reponse_formulaire.nom} and prenom={f_reponse_formulaire.prenom} \").fetchone()[0]\n",
    "    "
   ]
  }
 ],
 "metadata": {
  "kernelspec": {
   "display_name": "envprojetflask",
   "language": "python",
   "name": "python3"
  },
  "language_info": {
   "codemirror_mode": {
    "name": "ipython",
    "version": 3
   },
   "file_extension": ".py",
   "mimetype": "text/x-python",
   "name": "python",
   "nbconvert_exporter": "python",
   "pygments_lexer": "ipython3",
   "version": "3.10.11"
  },
  "orig_nbformat": 4
 },
 "nbformat": 4,
 "nbformat_minor": 2
}
