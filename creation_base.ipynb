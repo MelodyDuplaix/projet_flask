{
 "cells": [
  {
   "cell_type": "code",
   "execution_count": 1,
   "metadata": {},
   "outputs": [],
   "source": [
    "import sqlite3"
   ]
  },
  {
   "cell_type": "code",
   "execution_count": 2,
   "metadata": {},
   "outputs": [],
   "source": [
    "connexion = sqlite3.connect(\"toutroule.db\")"
   ]
  },
  {
   "cell_type": "code",
   "execution_count": 3,
   "metadata": {},
   "outputs": [],
   "source": [
    "curseur = connexion.cursor()"
   ]
  },
  {
   "cell_type": "code",
   "execution_count": 4,
   "metadata": {},
   "outputs": [],
   "source": [
    "creation_table = \"\"\"\n",
    "CREATE TABLE vehicule(\n",
    "   id_vehicule int,\n",
    "   type VARCHAR(50) NOT NULL,\n",
    "   PRIMARY KEY(id_vehicule)\n",
    ");\n",
    "\"\"\" "
   ]
  },
  {
   "cell_type": "code",
   "execution_count": 5,
   "metadata": {},
   "outputs": [
    {
     "data": {
      "text/plain": [
       "<sqlite3.Cursor at 0x1c11d19f4c0>"
      ]
     },
     "execution_count": 5,
     "metadata": {},
     "output_type": "execute_result"
    }
   ],
   "source": [
    "curseur.execute(creation_table)"
   ]
  },
  {
   "cell_type": "code",
   "execution_count": 6,
   "metadata": {},
   "outputs": [],
   "source": [
    "table_chauffeur = \"\"\"\n",
    "CREATE TABLE chauffeurs(\n",
    "   id_chauffeur INT,\n",
    "   nom VARCHAR(50) NOT NULL,\n",
    "   prenom VARCHAR(50) NOT NULL,\n",
    "   genre VARCHAR(2) NOT NULL,\n",
    "   PRIMARY KEY(id_chauffeur)\n",
    ");\n",
    "\"\"\""
   ]
  },
  {
   "cell_type": "code",
   "execution_count": 7,
   "metadata": {},
   "outputs": [
    {
     "data": {
      "text/plain": [
       "<sqlite3.Cursor at 0x1c11d19f4c0>"
      ]
     },
     "execution_count": 7,
     "metadata": {},
     "output_type": "execute_result"
    }
   ],
   "source": [
    "curseur.execute(table_chauffeur)"
   ]
  },
  {
   "cell_type": "code",
   "execution_count": 8,
   "metadata": {},
   "outputs": [],
   "source": [
    "table_trajets = \"\"\"\n",
    "CREATE TABLE trajets(\n",
    "   id_trajet INT,\n",
    "   km_fin INT NOT NULL,\n",
    "   km_debut INT NOT NULL,\n",
    "   commentaire VARCHAR(250),\n",
    "   id_vehicule CHAR(50) NOT NULL,\n",
    "   id_chauffeur INT NOT NULL,\n",
    "   PRIMARY KEY(id_trajet),\n",
    "   FOREIGN KEY(id_vehicule) REFERENCES vehicule(id_vehicule),\n",
    "   FOREIGN KEY(id_chauffeur) REFERENCES chauffeurs(id_chauffeur)\n",
    ");\n",
    "\"\"\""
   ]
  },
  {
   "cell_type": "code",
   "execution_count": 9,
   "metadata": {},
   "outputs": [
    {
     "data": {
      "text/plain": [
       "<sqlite3.Cursor at 0x1c11d19f4c0>"
      ]
     },
     "execution_count": 9,
     "metadata": {},
     "output_type": "execute_result"
    }
   ],
   "source": [
    "curseur.execute(table_trajets)"
   ]
  },
  {
   "cell_type": "code",
   "execution_count": 10,
   "metadata": {},
   "outputs": [],
   "source": [
    "connexion.commit()\n",
    "connexion.close()"
   ]
  },
  {
   "cell_type": "code",
   "execution_count": null,
   "metadata": {},
   "outputs": [],
   "source": []
  }
 ],
 "metadata": {
  "kernelspec": {
   "display_name": "envprojetflask",
   "language": "python",
   "name": "python3"
  },
  "language_info": {
   "codemirror_mode": {
    "name": "ipython",
    "version": 3
   },
   "file_extension": ".py",
   "mimetype": "text/x-python",
   "name": "python",
   "nbconvert_exporter": "python",
   "pygments_lexer": "ipython3",
   "version": "3.10.11"
  },
  "orig_nbformat": 4
 },
 "nbformat": 4,
 "nbformat_minor": 2
}
